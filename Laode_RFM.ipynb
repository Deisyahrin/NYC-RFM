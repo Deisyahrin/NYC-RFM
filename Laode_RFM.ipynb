{
  "nbformat": 4,
  "nbformat_minor": 0,
  "metadata": {
    "kernelspec": {
      "display_name": "Python 3",
      "language": "python",
      "name": "python3"
    },
    "language_info": {
      "codemirror_mode": {
        "name": "ipython",
        "version": 3
      },
      "file_extension": ".py",
      "mimetype": "text/x-python",
      "name": "python",
      "nbconvert_exporter": "python",
      "pygments_lexer": "ipython3",
      "version": "3.8.5"
    },
    "colab": {
      "name": "Laode_RFM.ipynb",
      "provenance": []
    }
  },
  "cells": [
    {
      "cell_type": "code",
      "metadata": {
        "id": "Lkcu83Dvl828"
      },
      "source": [
        "# Import Packege\n",
        "import pandas as pd\n",
        "import numpy as np\n",
        "import matplotlib.pyplot as plt\n",
        "import seaborn as sns\n",
        "\n",
        "pd.options.display.float_format = '{:.2f}'.format # Hilangin notasi scientific (1.e20)\n",
        "%matplotlib inline"
      ],
      "execution_count": null,
      "outputs": []
    },
    {
      "cell_type": "code",
      "metadata": {
        "id": "rAzEjzVTl83G"
      },
      "source": [
        "df = pd.read_csv('rfm_data.csv')"
      ],
      "execution_count": null,
      "outputs": []
    },
    {
      "cell_type": "code",
      "metadata": {
        "id": "e5GjGCAOl83I",
        "outputId": "931ddb6c-23ca-48ac-95c0-1ef8e8231b1d"
      },
      "source": [
        "df.head()"
      ],
      "execution_count": null,
      "outputs": [
        {
          "output_type": "execute_result",
          "data": {
            "text/html": [
              "<div>\n",
              "<style scoped>\n",
              "    .dataframe tbody tr th:only-of-type {\n",
              "        vertical-align: middle;\n",
              "    }\n",
              "\n",
              "    .dataframe tbody tr th {\n",
              "        vertical-align: top;\n",
              "    }\n",
              "\n",
              "    .dataframe thead th {\n",
              "        text-align: right;\n",
              "    }\n",
              "</style>\n",
              "<table border=\"1\" class=\"dataframe\">\n",
              "  <thead>\n",
              "    <tr style=\"text-align: right;\">\n",
              "      <th></th>\n",
              "      <th>Unnamed: 0</th>\n",
              "      <th>CustomerID</th>\n",
              "      <th>InvoiceNo</th>\n",
              "      <th>LatestDay</th>\n",
              "      <th>SpendingPerInvoice</th>\n",
              "    </tr>\n",
              "  </thead>\n",
              "  <tbody>\n",
              "    <tr>\n",
              "      <th>0</th>\n",
              "      <td>0</td>\n",
              "      <td>12346.00</td>\n",
              "      <td>1</td>\n",
              "      <td>325</td>\n",
              "      <td>77183.60</td>\n",
              "    </tr>\n",
              "    <tr>\n",
              "      <th>1</th>\n",
              "      <td>1</td>\n",
              "      <td>12347.00</td>\n",
              "      <td>7</td>\n",
              "      <td>366</td>\n",
              "      <td>615.71</td>\n",
              "    </tr>\n",
              "    <tr>\n",
              "      <th>2</th>\n",
              "      <td>2</td>\n",
              "      <td>12348.00</td>\n",
              "      <td>4</td>\n",
              "      <td>357</td>\n",
              "      <td>449.31</td>\n",
              "    </tr>\n",
              "    <tr>\n",
              "      <th>3</th>\n",
              "      <td>3</td>\n",
              "      <td>12349.00</td>\n",
              "      <td>1</td>\n",
              "      <td>18</td>\n",
              "      <td>1757.55</td>\n",
              "    </tr>\n",
              "    <tr>\n",
              "      <th>4</th>\n",
              "      <td>4</td>\n",
              "      <td>12350.00</td>\n",
              "      <td>1</td>\n",
              "      <td>309</td>\n",
              "      <td>334.40</td>\n",
              "    </tr>\n",
              "  </tbody>\n",
              "</table>\n",
              "</div>"
            ],
            "text/plain": [
              "   Unnamed: 0  CustomerID  InvoiceNo  LatestDay  SpendingPerInvoice\n",
              "0           0    12346.00          1        325            77183.60\n",
              "1           1    12347.00          7        366              615.71\n",
              "2           2    12348.00          4        357              449.31\n",
              "3           3    12349.00          1         18             1757.55\n",
              "4           4    12350.00          1        309              334.40"
            ]
          },
          "metadata": {
            "tags": []
          },
          "execution_count": 3
        }
      ]
    },
    {
      "cell_type": "code",
      "metadata": {
        "id": "IeYjG0Gel83K"
      },
      "source": [
        "df = df[['CustomerID', 'InvoiceNo', 'LatestDay', 'SpendingPerInvoice']]"
      ],
      "execution_count": null,
      "outputs": []
    },
    {
      "cell_type": "code",
      "metadata": {
        "id": "RPt1WJpWl83L",
        "outputId": "d952c17e-872c-42b2-998d-abb91b5e11b7"
      },
      "source": [
        "df.isnull().sum()"
      ],
      "execution_count": null,
      "outputs": [
        {
          "output_type": "execute_result",
          "data": {
            "text/plain": [
              "CustomerID            0\n",
              "InvoiceNo             0\n",
              "LatestDay             0\n",
              "SpendingPerInvoice    0\n",
              "dtype: int64"
            ]
          },
          "metadata": {
            "tags": []
          },
          "execution_count": 5
        }
      ]
    },
    {
      "cell_type": "code",
      "metadata": {
        "id": "RKimJedul83L",
        "outputId": "9c2f9159-2c5c-45a9-be4b-61eed5afb97c"
      },
      "source": [
        "df.describe()"
      ],
      "execution_count": null,
      "outputs": [
        {
          "output_type": "execute_result",
          "data": {
            "text/html": [
              "<div>\n",
              "<style scoped>\n",
              "    .dataframe tbody tr th:only-of-type {\n",
              "        vertical-align: middle;\n",
              "    }\n",
              "\n",
              "    .dataframe tbody tr th {\n",
              "        vertical-align: top;\n",
              "    }\n",
              "\n",
              "    .dataframe thead th {\n",
              "        text-align: right;\n",
              "    }\n",
              "</style>\n",
              "<table border=\"1\" class=\"dataframe\">\n",
              "  <thead>\n",
              "    <tr style=\"text-align: right;\">\n",
              "      <th></th>\n",
              "      <th>CustomerID</th>\n",
              "      <th>InvoiceNo</th>\n",
              "      <th>LatestDay</th>\n",
              "      <th>SpendingPerInvoice</th>\n",
              "    </tr>\n",
              "  </thead>\n",
              "  <tbody>\n",
              "    <tr>\n",
              "      <th>count</th>\n",
              "      <td>4338.00</td>\n",
              "      <td>4338.00</td>\n",
              "      <td>4338.00</td>\n",
              "      <td>4338.00</td>\n",
              "    </tr>\n",
              "    <tr>\n",
              "      <th>mean</th>\n",
              "      <td>15300.41</td>\n",
              "      <td>4.27</td>\n",
              "      <td>222.21</td>\n",
              "      <td>419.17</td>\n",
              "    </tr>\n",
              "    <tr>\n",
              "      <th>std</th>\n",
              "      <td>1721.81</td>\n",
              "      <td>7.70</td>\n",
              "      <td>117.88</td>\n",
              "      <td>1796.54</td>\n",
              "    </tr>\n",
              "    <tr>\n",
              "      <th>min</th>\n",
              "      <td>12346.00</td>\n",
              "      <td>1.00</td>\n",
              "      <td>0.00</td>\n",
              "      <td>3.45</td>\n",
              "    </tr>\n",
              "    <tr>\n",
              "      <th>25%</th>\n",
              "      <td>13813.25</td>\n",
              "      <td>1.00</td>\n",
              "      <td>112.00</td>\n",
              "      <td>178.63</td>\n",
              "    </tr>\n",
              "    <tr>\n",
              "      <th>50%</th>\n",
              "      <td>15299.50</td>\n",
              "      <td>2.00</td>\n",
              "      <td>248.00</td>\n",
              "      <td>293.90</td>\n",
              "    </tr>\n",
              "    <tr>\n",
              "      <th>75%</th>\n",
              "      <td>16778.75</td>\n",
              "      <td>5.00</td>\n",
              "      <td>326.00</td>\n",
              "      <td>430.11</td>\n",
              "    </tr>\n",
              "    <tr>\n",
              "      <th>max</th>\n",
              "      <td>18287.00</td>\n",
              "      <td>209.00</td>\n",
              "      <td>373.00</td>\n",
              "      <td>84236.25</td>\n",
              "    </tr>\n",
              "  </tbody>\n",
              "</table>\n",
              "</div>"
            ],
            "text/plain": [
              "       CustomerID  InvoiceNo  LatestDay  SpendingPerInvoice\n",
              "count     4338.00    4338.00    4338.00             4338.00\n",
              "mean     15300.41       4.27     222.21              419.17\n",
              "std       1721.81       7.70     117.88             1796.54\n",
              "min      12346.00       1.00       0.00                3.45\n",
              "25%      13813.25       1.00     112.00              178.63\n",
              "50%      15299.50       2.00     248.00              293.90\n",
              "75%      16778.75       5.00     326.00              430.11\n",
              "max      18287.00     209.00     373.00            84236.25"
            ]
          },
          "metadata": {
            "tags": []
          },
          "execution_count": 6
        }
      ]
    },
    {
      "cell_type": "code",
      "metadata": {
        "id": "PQ-ulNr8l83L",
        "outputId": "461c8e7c-cc03-4391-a4c1-a7aab2de310b"
      },
      "source": [
        "df.corr()"
      ],
      "execution_count": null,
      "outputs": [
        {
          "output_type": "execute_result",
          "data": {
            "text/html": [
              "<div>\n",
              "<style scoped>\n",
              "    .dataframe tbody tr th:only-of-type {\n",
              "        vertical-align: middle;\n",
              "    }\n",
              "\n",
              "    .dataframe tbody tr th {\n",
              "        vertical-align: top;\n",
              "    }\n",
              "\n",
              "    .dataframe thead th {\n",
              "        text-align: right;\n",
              "    }\n",
              "</style>\n",
              "<table border=\"1\" class=\"dataframe\">\n",
              "  <thead>\n",
              "    <tr style=\"text-align: right;\">\n",
              "      <th></th>\n",
              "      <th>CustomerID</th>\n",
              "      <th>InvoiceNo</th>\n",
              "      <th>LatestDay</th>\n",
              "      <th>SpendingPerInvoice</th>\n",
              "    </tr>\n",
              "  </thead>\n",
              "  <tbody>\n",
              "    <tr>\n",
              "      <th>CustomerID</th>\n",
              "      <td>1.00</td>\n",
              "      <td>-0.01</td>\n",
              "      <td>-0.00</td>\n",
              "      <td>-0.04</td>\n",
              "    </tr>\n",
              "    <tr>\n",
              "      <th>InvoiceNo</th>\n",
              "      <td>-0.01</td>\n",
              "      <td>1.00</td>\n",
              "      <td>0.31</td>\n",
              "      <td>0.02</td>\n",
              "    </tr>\n",
              "    <tr>\n",
              "      <th>LatestDay</th>\n",
              "      <td>-0.00</td>\n",
              "      <td>0.31</td>\n",
              "      <td>1.00</td>\n",
              "      <td>0.01</td>\n",
              "    </tr>\n",
              "    <tr>\n",
              "      <th>SpendingPerInvoice</th>\n",
              "      <td>-0.04</td>\n",
              "      <td>0.02</td>\n",
              "      <td>0.01</td>\n",
              "      <td>1.00</td>\n",
              "    </tr>\n",
              "  </tbody>\n",
              "</table>\n",
              "</div>"
            ],
            "text/plain": [
              "                    CustomerID  InvoiceNo  LatestDay  SpendingPerInvoice\n",
              "CustomerID                1.00      -0.01      -0.00               -0.04\n",
              "InvoiceNo                -0.01       1.00       0.31                0.02\n",
              "LatestDay                -0.00       0.31       1.00                0.01\n",
              "SpendingPerInvoice       -0.04       0.02       0.01                1.00"
            ]
          },
          "metadata": {
            "tags": []
          },
          "execution_count": 7
        }
      ]
    },
    {
      "cell_type": "code",
      "metadata": {
        "id": "fDFpiLJPl83M"
      },
      "source": [
        "from sklearn.preprocessing import StandardScaler\n",
        "from sklearn.preprocessing import MinMaxScaler\n",
        "\n",
        "\n",
        "\n",
        "# Normalize the Value using MinMax-Normalization\n",
        "SS = MinMaxScaler().fit(df.iloc[:,1:])\n",
        "scaled_df = SS.transform(df.iloc[:,1:])"
      ],
      "execution_count": null,
      "outputs": []
    },
    {
      "cell_type": "code",
      "metadata": {
        "id": "AbtTxUapl83M"
      },
      "source": [
        "from sklearn.metrics import silhouette_samples, silhouette_score\n",
        "from sklearn.cluster import KMeans\n",
        "\n",
        "kmeans_kwards = {\n",
        "    \"init\" : \"k-means++\",\n",
        "    \"n_init\" : 10,\n",
        "    \"max_iter\" : 300,\n",
        "    \"random_state\" : 7,\n",
        "}\n",
        "\n",
        "# List to holds the SSE (Sum of Square Error) for each K\n",
        "sse = []\n",
        "sil_score = []\n",
        "\n",
        "for k in range(2,12):\n",
        "  kmeans = KMeans(n_clusters = k, **kmeans_kwards)\n",
        "  kmeans.fit(scaled_df)\n",
        "  prediction = kmeans.predict(scaled_df)\n",
        "\n",
        "  silhouette_avg = silhouette_score(scaled_df, prediction)\n",
        "  sil_score.append(silhouette_avg)\n",
        "  sse.append(kmeans.inertia_)"
      ],
      "execution_count": null,
      "outputs": []
    },
    {
      "cell_type": "code",
      "metadata": {
        "id": "Yhpg4zAKl83N",
        "outputId": "59f1d3ff-ef13-4477-da40-4e5c526374ba"
      },
      "source": [
        "# Plot Inertia Scores\n",
        "plt.style.use('fivethirtyeight')\n",
        "plt.plot(range(2,12), sse)\n",
        "plt.xlabel('Number of Cluster')\n",
        "plt.ylabel('SSE')\n",
        "plt.show()"
      ],
      "execution_count": null,
      "outputs": [
        {
          "output_type": "display_data",
          "data": {
            "image/png": "[encoded data removed]",
            "text/plain": [
              "<Figure size 432x288 with 1 Axes>"
            ]
          },
          "metadata": {
            "tags": []
          }
        }
      ]
    },
    {
      "cell_type": "code",
      "metadata": {
        "id": "j7Enh3bHl83O",
        "outputId": "f07a829c-e82b-48b0-aa77-54f48022dfe9"
      },
      "source": [
        "from kneed import KneeLocator\n",
        "\n",
        "kl = KneeLocator(range(2,12), sse, curve = 'convex', direction = 'decreasing')\n",
        "kl.elbow"
      ],
      "execution_count": null,
      "outputs": [
        {
          "output_type": "execute_result",
          "data": {
            "text/plain": [
              "4"
            ]
          },
          "metadata": {
            "tags": []
          },
          "execution_count": 22
        }
      ]
    },
    {
      "cell_type": "code",
      "metadata": {
        "id": "qdecaO42l83P",
        "outputId": "ade7e1e5-34ab-430c-a560-284a5f77640e"
      },
      "source": [
        "# Plot Inertia Scores\n",
        "plt.style.use('fivethirtyeight')\n",
        "plt.plot(range(2,12), sil_score)\n",
        "plt.xlabel('Number of Cluster')\n",
        "plt.ylabel('Silhoutte Score')\n",
        "plt.show()"
      ],
      "execution_count": null,
      "outputs": [
        {
          "output_type": "display_data",
          "data": {
            "image/png": "[encoded data removed]",
            "text/plain": [
              "<Figure size 432x288 with 1 Axes>"
            ]
          },
          "metadata": {
            "tags": []
          }
        }
      ]
    },
    {
      "cell_type": "code",
      "metadata": {
        "id": "ZzqJ0Qy4l83P"
      },
      "source": [
        "# Use K = 4\n",
        "kmeans_4 = KMeans(init = 'k-means++', n_clusters=4, n_init=10, max_iter=300, random_state=7)\n",
        "kmeans_4.fit(scaled_df)\n",
        "predict_4 = kmeans_4.predict(scaled_df)"
      ],
      "execution_count": null,
      "outputs": []
    },
    {
      "cell_type": "code",
      "metadata": {
        "id": "TMYGNIpil83P",
        "outputId": "23b025f2-5104-476a-ee80-96424b42f81b"
      },
      "source": [
        "print(kmeans.inertia_)"
      ],
      "execution_count": null,
      "outputs": [
        {
          "output_type": "stream",
          "text": [
            "6.496741002557429\n"
          ],
          "name": "stdout"
        }
      ]
    },
    {
      "cell_type": "code",
      "metadata": {
        "id": "aUkiMWhyl83Q",
        "outputId": "0c0c553f-264a-4b86-bd7d-c8c9e91cfe6b"
      },
      "source": [
        "df['cluster_result'] = predict_4\n",
        "df.head()"
      ],
      "execution_count": null,
      "outputs": [
        {
          "output_type": "execute_result",
          "data": {
            "text/html": [
              "<div>\n",
              "<style scoped>\n",
              "    .dataframe tbody tr th:only-of-type {\n",
              "        vertical-align: middle;\n",
              "    }\n",
              "\n",
              "    .dataframe tbody tr th {\n",
              "        vertical-align: top;\n",
              "    }\n",
              "\n",
              "    .dataframe thead th {\n",
              "        text-align: right;\n",
              "    }\n",
              "</style>\n",
              "<table border=\"1\" class=\"dataframe\">\n",
              "  <thead>\n",
              "    <tr style=\"text-align: right;\">\n",
              "      <th></th>\n",
              "      <th>CustomerID</th>\n",
              "      <th>InvoiceNo</th>\n",
              "      <th>LatestDay</th>\n",
              "      <th>SpendingPerInvoice</th>\n",
              "      <th>cluster_result</th>\n",
              "    </tr>\n",
              "  </thead>\n",
              "  <tbody>\n",
              "    <tr>\n",
              "      <th>0</th>\n",
              "      <td>12346.00</td>\n",
              "      <td>1</td>\n",
              "      <td>325</td>\n",
              "      <td>77183.60</td>\n",
              "      <td>2</td>\n",
              "    </tr>\n",
              "    <tr>\n",
              "      <th>1</th>\n",
              "      <td>12347.00</td>\n",
              "      <td>7</td>\n",
              "      <td>366</td>\n",
              "      <td>615.71</td>\n",
              "      <td>2</td>\n",
              "    </tr>\n",
              "    <tr>\n",
              "      <th>2</th>\n",
              "      <td>12348.00</td>\n",
              "      <td>4</td>\n",
              "      <td>357</td>\n",
              "      <td>449.31</td>\n",
              "      <td>2</td>\n",
              "    </tr>\n",
              "    <tr>\n",
              "      <th>3</th>\n",
              "      <td>12349.00</td>\n",
              "      <td>1</td>\n",
              "      <td>18</td>\n",
              "      <td>1757.55</td>\n",
              "      <td>1</td>\n",
              "    </tr>\n",
              "    <tr>\n",
              "      <th>4</th>\n",
              "      <td>12350.00</td>\n",
              "      <td>1</td>\n",
              "      <td>309</td>\n",
              "      <td>334.40</td>\n",
              "      <td>0</td>\n",
              "    </tr>\n",
              "  </tbody>\n",
              "</table>\n",
              "</div>"
            ],
            "text/plain": [
              "   CustomerID  InvoiceNo  LatestDay  SpendingPerInvoice  cluster_result\n",
              "0    12346.00          1        325            77183.60               2\n",
              "1    12347.00          7        366              615.71               2\n",
              "2    12348.00          4        357              449.31               2\n",
              "3    12349.00          1         18             1757.55               1\n",
              "4    12350.00          1        309              334.40               0"
            ]
          },
          "metadata": {
            "tags": []
          },
          "execution_count": 27
        }
      ]
    },
    {
      "cell_type": "code",
      "metadata": {
        "id": "WeRaAn1ul83Q",
        "outputId": "b406ba83-6067-4e7c-98ff-402028db86e3"
      },
      "source": [
        "df.cluster_result.unique()"
      ],
      "execution_count": null,
      "outputs": [
        {
          "output_type": "execute_result",
          "data": {
            "text/plain": [
              "array([2, 1, 0, 3], dtype=int32)"
            ]
          },
          "metadata": {
            "tags": []
          },
          "execution_count": 28
        }
      ]
    },
    {
      "cell_type": "code",
      "metadata": {
        "id": "-udtDrmql83R"
      },
      "source": [
        "center = pd.DataFrame(SS.inverse_transform(kmeans_4.cluster_centers_))\n",
        "center.columns = ['InvoiceNo', 'LatestDay', 'SpendingperInvoice']"
      ],
      "execution_count": null,
      "outputs": []
    },
    {
      "cell_type": "code",
      "metadata": {
        "id": "VDu5_y86l83R",
        "outputId": "db851f52-2504-470a-e009-2c57fdcfbea4"
      },
      "source": [
        "center"
      ],
      "execution_count": null,
      "outputs": [
        {
          "output_type": "execute_result",
          "data": {
            "text/html": [
              "<div>\n",
              "<style scoped>\n",
              "    .dataframe tbody tr th:only-of-type {\n",
              "        vertical-align: middle;\n",
              "    }\n",
              "\n",
              "    .dataframe tbody tr th {\n",
              "        vertical-align: top;\n",
              "    }\n",
              "\n",
              "    .dataframe thead th {\n",
              "        text-align: right;\n",
              "    }\n",
              "</style>\n",
              "<table border=\"1\" class=\"dataframe\">\n",
              "  <thead>\n",
              "    <tr style=\"text-align: right;\">\n",
              "      <th></th>\n",
              "      <th>InvoiceNo</th>\n",
              "      <th>LatestDay</th>\n",
              "      <th>SpendingperInvoice</th>\n",
              "    </tr>\n",
              "  </thead>\n",
              "  <tbody>\n",
              "    <tr>\n",
              "      <th>0</th>\n",
              "      <td>3.63</td>\n",
              "      <td>270.73</td>\n",
              "      <td>354.21</td>\n",
              "    </tr>\n",
              "    <tr>\n",
              "      <th>1</th>\n",
              "      <td>1.69</td>\n",
              "      <td>54.53</td>\n",
              "      <td>387.06</td>\n",
              "    </tr>\n",
              "    <tr>\n",
              "      <th>2</th>\n",
              "      <td>8.11</td>\n",
              "      <td>352.90</td>\n",
              "      <td>466.20</td>\n",
              "    </tr>\n",
              "    <tr>\n",
              "      <th>3</th>\n",
              "      <td>2.62</td>\n",
              "      <td>174.38</td>\n",
              "      <td>481.81</td>\n",
              "    </tr>\n",
              "  </tbody>\n",
              "</table>\n",
              "</div>"
            ],
            "text/plain": [
              "   InvoiceNo  LatestDay  SpendingperInvoice\n",
              "0       3.63     270.73              354.21\n",
              "1       1.69      54.53              387.06\n",
              "2       8.11     352.90              466.20\n",
              "3       2.62     174.38              481.81"
            ]
          },
          "metadata": {
            "tags": []
          },
          "execution_count": 32
        }
      ]
    },
    {
      "cell_type": "code",
      "metadata": {
        "id": "jXTB6V0Tl83S"
      },
      "source": [
        "from sklearn.decomposition import PCA\n",
        "\n",
        "pca = PCA()\n",
        "pca.fit(scaled_df)\n",
        "pca_X = pca.transform(scaled_df)"
      ],
      "execution_count": null,
      "outputs": []
    },
    {
      "cell_type": "code",
      "metadata": {
        "id": "eTNZeYoQl83S",
        "outputId": "f9172674-83b4-4147-efa9-3b030ffb07af"
      },
      "source": [
        "plt.scatter(pca_X[predict_4 == 0, 0], pca_X[predict_4 == 0, 1], s = 100, c = 'red', label = 'Cluster 0')\n",
        "plt.scatter(pca_X[predict_4 == 1, 0], pca_X[predict_4 == 1, 1], s = 100, c = 'blue', label = 'Cluster 1')\n",
        "plt.scatter(pca_X[predict_4 == 2, 0], pca_X[predict_4 == 2, 1], s = 100, c = 'green', label = 'Cluster 2')\n",
        "plt.scatter(pca_X[predict_4 == 3, 0], pca_X[predict_4 == 3, 1], s = 100, c = 'cyan', label = 'Cluster 3')\n",
        "#plt.scatter(pca_X[predict_4 == 4, 0], pca_X[predict_5 == 4, 1], s = 100, c = 'magenta', label = 'Cluster 4')\n",
        "\n",
        "plt.xlabel('PC 1')\n",
        "plt.ylabel('PC 2')\n",
        "plt.legend(scatterpoints = 1)\n",
        "plt.title('Clustering Result')\n",
        "plt.show()"
      ],
      "execution_count": null,
      "outputs": [
        {
          "output_type": "display_data",
          "data": {
            "image/png": "[encoded data removed]",
            "text/plain": [
              "<Figure size 432x288 with 1 Axes>"
            ]
          },
          "metadata": {
            "tags": []
          }
        }
      ]
    },
    {
      "cell_type": "code",
      "metadata": {
        "id": "-Ze2r5wul83S"
      },
      "source": [
        ""
      ],
      "execution_count": null,
      "outputs": []
    }
  ]
}